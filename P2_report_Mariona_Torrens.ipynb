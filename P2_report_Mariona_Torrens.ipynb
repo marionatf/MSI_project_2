{
 "cells": [
  {
   "cell_type": "markdown",
   "metadata": {},
   "source": [
    "# MSI Project 2 –  Water chemical potential\n",
    "**Mariona Torrens Fontanals**\n",
    "*****"
   ]
  },
  {
   "cell_type": "markdown",
   "metadata": {},
   "source": [
    "## Introduction"
   ]
  },
  {
   "cell_type": "markdown",
   "metadata": {},
   "source": [
    "The following python module, given a set of molecular dynamics trajectories, computes the volumetric map of the chemical potential for water.  \n",
    "To do that, we compute the average density of water (water occupancy) around the protein by counting the number of oxygen water atoms found at each cell of a tridimensional cubic grid which has the protein at the center. Then, we apply the Boltzmann equation to obtain the chemical potential from the occupancy.   \n",
    "\n",
    "In order to properly execute this module, we need to have all the simulation trajectories folders stored in a directory called *data*, placed at the working directory.\n",
    "\n",
    "The code used to achieve that is detailed above:"
   ]
  },
  {
   "cell_type": "markdown",
   "metadata": {},
   "source": [
    "## Details of the module"
   ]
  },
  {
   "cell_type": "markdown",
   "metadata": {},
   "source": [
    "The code is organized in several functions which are called by a main function, named `volumetric_map`.  \n",
    "First of all, the main function creates a list of simulations (`simlist` method), which allows us to iterate through them. Therefore, the main part of the code is inside a `for` loop, so that it is applied for each simulation trajectory."
   ]
  },
  {
   "cell_type": "markdown",
   "metadata": {},
   "source": [
    "The `prepare_traject` function loads the pdb file associated to a given simulation *s* and the trajectory file. Also, the `wrap` method is used to enclose the coordinates of the Molecule object into a continuous cubic space, so that the water molecules don't escape away from the protein, which would make the calculation of the water occupancy impossible.  \n",
    "\n",
    "The Molecule of each simulation needs to be aligned the same way as the others. For this reason, for the first simulation loaded we save a copy of the aligned Molecule (we name it *ref_traj*) and use it as a reference on which to align the Molecule of the following simulations.\n",
    "\n",
    "The Molecule is centered at [0,0,0] to make sure that we start at the same position for all the simulations. Afterwards, we filter out the protein so that we keep only the oxygen atoms of the water molecules (*traj_wat*), which will later serve us as an approximation of where the water molecules are located."
   ]
  },
  {
   "cell_type": "code",
   "execution_count": 5,
   "metadata": {
    "collapsed": false
   },
   "outputs": [],
   "source": [
    "from htmd import *\n",
    "from htmd.molecule.util import maxDistance\n",
    "from htmd.molecule.util import writeVoxels\n",
    "import time"
   ]
  },
  {
   "cell_type": "code",
   "execution_count": 6,
   "metadata": {
    "collapsed": true
   },
   "outputs": [],
   "source": [
    "def prepare_traject(s,ref_traj=None):\n",
    "    traj = (Molecule(s.molfile))\n",
    "    traj.read(s.trajectory)\n",
    "    traj.wrap('protein') #we want the prot to be the center of the wrapping box\n",
    "    if ref_traj is None:\n",
    "        traj.align('protein')\n",
    "        ref_traj=traj.copy()\n",
    "    else:\n",
    "        traj.align('protein',ref_traj)\n",
    "    coo = traj.get('coords')\n",
    "    c = np.mean(coo, axis=0)\n",
    "    traj.moveBy(-c)\n",
    "    traj_wat= traj.copy()\n",
    "    traj_wat.filter(\"water and name OH2\")    \n",
    "    return(traj,traj_wat,ref_traj)"
   ]
  },
  {
   "cell_type": "markdown",
   "metadata": {},
   "source": [
    "We need a reference value which allows us to determine the dimensions of the grid. In order to obtain it, when we load the first simulation, the function `define_extremes` applies `maxDistance`, which calculates the maximum distance from the center of the Molecule to the furthest atom. With this value (*D*), we can calculate the starting and ending point of the grid at each dimension (x,y,z). The grid will be placed at positive coordinates, so its values of x, y and z will go from 0 (*min_d*) to two times the integer of *D* rounded up (*max_d*).\n",
    "\n",
    "For all the simulations, we will use the grid dimensions calculated for the first one to be loaded, so we only need to execute `define_extremes` for this one. All the necessary information is saved so that we can use it for all the others."
   ]
  },
  {
   "cell_type": "code",
   "execution_count": 7,
   "metadata": {
    "collapsed": true
   },
   "outputs": [],
   "source": [
    "def define_extremes(traj_wat):\n",
    "    D = maxDistance(traj_wat)\n",
    "    min_d = 0\n",
    "    max_d = 2*int(D+1)    \n",
    "    return(min_d,max_d)"
   ]
  },
  {
   "cell_type": "markdown",
   "metadata": {
    "collapsed": true
   },
   "source": [
    "With the purpose to obtain the tridimensional grid, we start by creating a dictionary (*w_count*) in which each key corresponds to a tuple (x,y,z), where x, y and z is an integer from 0 to *max_d*. The tuple (x,y,z) represents the grid cell that includes all the oxygen atoms of water with coordinates such that:\n",
    "* x is within the interval (x,x+1)\n",
    "* y is within the interval (y,y+1) \n",
    "* z is within the interval (z,z+1)\n",
    "\n",
    "Therefore, our grid has a resolution of 1 Angstrom for each dimension.  \n",
    "The value associated to each key, for the moment, is set to 0, but it will eventually be the density of oxygen atoms at the corresponding cell.\n",
    "\n",
    "The mentioned dictionary is created by the function `create_count_dict`."
   ]
  },
  {
   "cell_type": "code",
   "execution_count": 8,
   "metadata": {
    "collapsed": true
   },
   "outputs": [],
   "source": [
    "def create_count_dict(min_d,max_d):\n",
    "    w_count={}\n",
    "    for x in range(min_d,max_d+1):\n",
    "        for y in range(min_d,max_d+1):\n",
    "            for z in range(min_d,max_d+1):\n",
    "                w_count[(x,y,z)]=0\n",
    "    return(w_count)"
   ]
  },
  {
   "cell_type": "markdown",
   "metadata": {},
   "source": [
    "`calculate_occupancy` iterates through the coordinates of all the oxygen atoms at *traj_wat*, considering all its frames. For each atom, sums 1 to the dictionary value of the corresponding grid cell. Also, in order to smoothen the isosurface that will result from all this, we add 0.5 to the grid cells surrounding the one where the atom is found. This makes the program slower, but with better results.\n",
    "\n",
    "After that, we transform the dictionary to a matrix (*w_count_list*) of dimension *n.n.n*, where *n* is the number of grid cells along each axis. Each matrix cell contains a value of the number of waters in a grid cell. Of course, in the matrix, the values of water counts per grid cell are ordered by its spatial coordinates (thus, by the dictionary key).\n",
    "\n",
    "The values of the matrix are divided:\n",
    "* by the number of frames in the simulation, because we are interested in the average water occupancy of all frames\n",
    "* and by number of oxygen atoms, so that we obtain the water density.\n",
    "\n",
    "Therefore, we now have a matrix of the average water occupancy along the tridimensional space, for a given simulation (*avg_wat*)."
   ]
  },
  {
   "cell_type": "code",
   "execution_count": 9,
   "metadata": {
    "collapsed": true
   },
   "outputs": [],
   "source": [
    "def calculate_occupancy(traj_wat,w_count,min_d,max_d):\n",
    "    print(\"Calculating water occupancy....\")\n",
    "    for atom_c in traj_wat.coords:\n",
    "        for i in range(traj_wat.numFrames):\n",
    "            x=int(atom_c[0,i])\n",
    "            y=int(atom_c[1,i])\n",
    "            z=int(atom_c[2,i])\n",
    "            if min_d < x < max_d and min_d < y < max_d and min_d < z < max_d:\n",
    "                w_count[(x,y,z)]+=1\n",
    "                w_count[(x-1,y,z)]+=0.5\n",
    "                w_count[(x+1,y,z)]+=0.5\n",
    "                w_count[(x,y-1,z)]+=0.5\n",
    "                w_count[(x,y+1,z)]+=0.5\n",
    "                w_count[(x,y,z-1)]+=0.5\n",
    "                w_count[(x,y,z+1)]+=0.5   \n",
    "    w_count_list= np.array([w_count[key] for key in sorted(w_count)]).reshape(max_d+1,max_d+1,max_d+1)   \n",
    "    avg_wat = w_count_list / (traj_wat.numFrames*traj_wat.numAtoms) \n",
    "    print(\"Done.\")    \n",
    "    return(avg_wat)"
   ]
  },
  {
   "cell_type": "markdown",
   "metadata": {},
   "source": [
    "In the main function (`volumetric_map`), the *avg_wat* matrices of all the simulations are added, which gives a matrix of the summatory of water occupancies of all of them (*occup_all*). This matrix is divided by the total number of simulations, in order to obtain a matrix of average water occupancies of all the simulations.   \n",
    "Afterwards, we sum to the matrix a very small number, such as 1e-50. We do this to avoid having zero values in it, which would be a problem at the following step of the program, when we have to convert to logarithm.\n",
    "\n",
    "At this point, the function `chemical_pot` is executed. It applies the Boltzmann equation, and in consequence we obtain a matrix of chemical potentials (*pot*) from the matrix of water occupancies."
   ]
  },
  {
   "cell_type": "code",
   "execution_count": 10,
   "metadata": {
    "collapsed": true
   },
   "outputs": [],
   "source": [
    "def chemical_pot(occupancy):\n",
    "    kB=0.001987191 \n",
    "    T=298 \n",
    "    pot = -kB*T*np.log(occupancy)        \n",
    "    return(pot)"
   ]
  },
  {
   "cell_type": "markdown",
   "metadata": {},
   "source": [
    "The main function (`volumetric_map`) now applies `writeVoxels` in order to create a cube file from the matrix *pot*. The cube file, named *cubefile.cube* is saved at the working directory.\n",
    "\n",
    "This file can be visualized with VMD on top of the PDB of the molecule as an isosurface. For this reason, the function `view_vmd` opens with VMD the trajectory of one of the simulations (the last one, concretely) so that we can load, manually, the cubefile on it."
   ]
  },
  {
   "cell_type": "code",
   "execution_count": 11,
   "metadata": {
    "collapsed": true
   },
   "outputs": [],
   "source": [
    "def view_vmd(traj, max_d):    \n",
    "    traj.moveBy([max_d/2,max_d/2,max_d/2])\n",
    "    htmd.config(viewer='vmd')\n",
    "    traj.reps.remove()   \n",
    "    traj.reps.add(sel='protein', style='NewCartoon', color='2')\n",
    "    traj.view()\n",
    "    time.sleep(6000)"
   ]
  },
  {
   "cell_type": "markdown",
   "metadata": {},
   "source": [
    "`volumetric_map` is the main function of the module, which, when executed, calls all the other ones. Therefore, in order to run the program we just need to execute this function."
   ]
  },
  {
   "cell_type": "code",
   "execution_count": 12,
   "metadata": {
    "collapsed": true
   },
   "outputs": [],
   "source": [
    "def volumetric_map():\n",
    "    sims = simlist(glob('data/*/'), glob('data/*/structure.pdb'), glob('input/*/'))\n",
    "    sim_num=len(sims)\n",
    "    for s in sims:\n",
    "        print(\"\\nSimulation\", s.simid +1, \"of\", sim_num)\n",
    "        if s.simid == 0:\n",
    "            (traj,traj_wat,ref_traj)=prepare_traject(s)\n",
    "            (min_d,max_d)=define_extremes(traj_wat)\n",
    "        else:\n",
    "            (traj,traj_wat,ref_traj)=prepare_traject(s,ref_traj)\n",
    "        traj_wat.moveBy([max_d/2,max_d/2,max_d/2])\n",
    "        w_count=create_count_dict(min_d,max_d)\n",
    "        avg_wat = calculate_occupancy(traj_wat,w_count,min_d,max_d)\n",
    "        try:\n",
    "            occup_all += avg_wat\n",
    "        except NameError:\n",
    "            occup_all = avg_wat\n",
    "    occup_all=occup_all/sim_num\n",
    "    occup_all += 1e-50\n",
    "    pot=chemical_pot(occup_all)\n",
    "    writeVoxels(pot,\"cubefile.cube\",np.array([min_d,min_d,min_d]),np.array([max_d,max_d,max_d]),np.array([1,1,1]))\n",
    "    print(\"\\nVolumetric file created.\\n\")\n",
    "    view_vmd(traj,max_d)"
   ]
  },
  {
   "cell_type": "code",
   "execution_count": null,
   "metadata": {
    "collapsed": true
   },
   "outputs": [],
   "source": [
    "volumetric_map()"
   ]
  },
  {
   "cell_type": "markdown",
   "metadata": {},
   "source": [
    "## Results"
   ]
  },
  {
   "cell_type": "markdown",
   "metadata": {},
   "source": [
    "In the image below you can see the resulting isosurface (white), represented on top of the protein (red):\n",
    "\n",
    "\n",
    "![](isosurface.png)"
   ]
  }
 ],
 "metadata": {
  "kernelspec": {
   "display_name": "Python 3",
   "language": "python",
   "name": "python3"
  },
  "language_info": {
   "codemirror_mode": {
    "name": "ipython",
    "version": 3
   },
   "file_extension": ".py",
   "mimetype": "text/x-python",
   "name": "python",
   "nbconvert_exporter": "python",
   "pygments_lexer": "ipython3",
   "version": "3.5.1"
  }
 },
 "nbformat": 4,
 "nbformat_minor": 0
}
